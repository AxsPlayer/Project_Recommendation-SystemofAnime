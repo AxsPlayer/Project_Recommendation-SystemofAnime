{
 "cells": [
  {
   "cell_type": "code",
   "execution_count": 2,
   "metadata": {
    "ExecuteTime": {
     "end_time": "2018-06-27T20:22:01.818050Z",
     "start_time": "2018-06-27T20:21:59.164968Z"
    },
    "collapsed": true
   },
   "outputs": [],
   "source": [
    "# Import necessary package.\n",
    "import tensorflow as tf\n",
    "import numpy as np  \n",
    "import matplotlib.pyplot as plt\n",
    "import pandas as pd"
   ]
  },
  {
   "cell_type": "markdown",
   "metadata": {},
   "source": [
    "### Data Preparation."
   ]
  },
  {
   "cell_type": "code",
   "execution_count": 4,
   "metadata": {
    "ExecuteTime": {
     "end_time": "2018-06-25T11:50:57.830166Z",
     "start_time": "2018-06-25T11:50:54.610840Z"
    },
    "collapsed": false
   },
   "outputs": [],
   "source": [
    "# Read data from csv file.\n",
    "anime_data = pd.read_csv('data/anime.csv')\n",
    "rating_data = pd.read_csv('data/rating.csv')"
   ]
  },
  {
   "cell_type": "code",
   "execution_count": 40,
   "metadata": {
    "ExecuteTime": {
     "end_time": "2018-06-25T15:20:20.791218Z",
     "start_time": "2018-06-25T15:19:49.604428Z"
    },
    "collapsed": false
   },
   "outputs": [],
   "source": [
    "# Convert data into UxM-Matrix, with unknown ratings as zeros.\n",
    "rating_data = rating_data.drop_duplicates(subset=['user_id', 'anime_id'], keep='first') # Delete the duplicate with error.\n",
    "rating_matrix = rating_data.reset_index().pivot(index='user_id', columns='anime_id', values='rating')"
   ]
  },
  {
   "cell_type": "code",
   "execution_count": 46,
   "metadata": {
    "ExecuteTime": {
     "end_time": "2018-06-25T17:53:44.584188Z",
     "start_time": "2018-06-25T17:51:36.262292Z"
    },
    "collapsed": false
   },
   "outputs": [],
   "source": [
    "# Fill Na with -1.\n",
    "rating_matrix = rating_matrix.fillna(-1)"
   ]
  },
  {
   "cell_type": "code",
   "execution_count": 75,
   "metadata": {
    "ExecuteTime": {
     "end_time": "2018-06-26T11:42:50.881987Z",
     "start_time": "2018-06-26T11:42:50.868362Z"
    },
    "collapsed": false
   },
   "outputs": [
    {
     "data": {
      "text/plain": [
       "(73515, 11200)"
      ]
     },
     "execution_count": 75,
     "metadata": {},
     "output_type": "execute_result"
    }
   ],
   "source": [
    "# The data shape.\n",
    "rating_matrix.shape"
   ]
  },
  {
   "cell_type": "code",
   "execution_count": 86,
   "metadata": {
    "ExecuteTime": {
     "end_time": "2018-06-27T12:13:28.633066Z",
     "start_time": "2018-06-27T12:13:28.271775Z"
    },
    "collapsed": false
   },
   "outputs": [
    {
     "data": {
      "text/html": [
       "<div>\n",
       "<table border=\"1\" class=\"dataframe\">\n",
       "  <thead>\n",
       "    <tr style=\"text-align: right;\">\n",
       "      <th>anime_id</th>\n",
       "      <th>1</th>\n",
       "      <th>5</th>\n",
       "      <th>6</th>\n",
       "      <th>7</th>\n",
       "      <th>8</th>\n",
       "      <th>15</th>\n",
       "      <th>16</th>\n",
       "      <th>17</th>\n",
       "      <th>18</th>\n",
       "      <th>19</th>\n",
       "      <th>...</th>\n",
       "      <th>34283</th>\n",
       "      <th>34324</th>\n",
       "      <th>34325</th>\n",
       "      <th>34349</th>\n",
       "      <th>34358</th>\n",
       "      <th>34367</th>\n",
       "      <th>34412</th>\n",
       "      <th>34475</th>\n",
       "      <th>34476</th>\n",
       "      <th>34519</th>\n",
       "    </tr>\n",
       "    <tr>\n",
       "      <th>user_id</th>\n",
       "      <th></th>\n",
       "      <th></th>\n",
       "      <th></th>\n",
       "      <th></th>\n",
       "      <th></th>\n",
       "      <th></th>\n",
       "      <th></th>\n",
       "      <th></th>\n",
       "      <th></th>\n",
       "      <th></th>\n",
       "      <th></th>\n",
       "      <th></th>\n",
       "      <th></th>\n",
       "      <th></th>\n",
       "      <th></th>\n",
       "      <th></th>\n",
       "      <th></th>\n",
       "      <th></th>\n",
       "      <th></th>\n",
       "      <th></th>\n",
       "      <th></th>\n",
       "    </tr>\n",
       "  </thead>\n",
       "  <tbody>\n",
       "    <tr>\n",
       "      <th>1</th>\n",
       "      <td>-1.0</td>\n",
       "      <td>-1.0</td>\n",
       "      <td>-1.0</td>\n",
       "      <td>-1.0</td>\n",
       "      <td>-1.0</td>\n",
       "      <td>-1.0</td>\n",
       "      <td>-1.0</td>\n",
       "      <td>-1.0</td>\n",
       "      <td>-1.0</td>\n",
       "      <td>-1.0</td>\n",
       "      <td>...</td>\n",
       "      <td>-1.0</td>\n",
       "      <td>-1.0</td>\n",
       "      <td>-1.0</td>\n",
       "      <td>-1.0</td>\n",
       "      <td>-1.0</td>\n",
       "      <td>-1.0</td>\n",
       "      <td>-1.0</td>\n",
       "      <td>-1.0</td>\n",
       "      <td>-1.0</td>\n",
       "      <td>-1.0</td>\n",
       "    </tr>\n",
       "    <tr>\n",
       "      <th>2</th>\n",
       "      <td>-1.0</td>\n",
       "      <td>-1.0</td>\n",
       "      <td>-1.0</td>\n",
       "      <td>-1.0</td>\n",
       "      <td>-1.0</td>\n",
       "      <td>-1.0</td>\n",
       "      <td>-1.0</td>\n",
       "      <td>-1.0</td>\n",
       "      <td>-1.0</td>\n",
       "      <td>-1.0</td>\n",
       "      <td>...</td>\n",
       "      <td>-1.0</td>\n",
       "      <td>-1.0</td>\n",
       "      <td>-1.0</td>\n",
       "      <td>-1.0</td>\n",
       "      <td>-1.0</td>\n",
       "      <td>-1.0</td>\n",
       "      <td>-1.0</td>\n",
       "      <td>-1.0</td>\n",
       "      <td>-1.0</td>\n",
       "      <td>-1.0</td>\n",
       "    </tr>\n",
       "    <tr>\n",
       "      <th>3</th>\n",
       "      <td>-1.0</td>\n",
       "      <td>-1.0</td>\n",
       "      <td>-1.0</td>\n",
       "      <td>-1.0</td>\n",
       "      <td>-1.0</td>\n",
       "      <td>-1.0</td>\n",
       "      <td>-1.0</td>\n",
       "      <td>-1.0</td>\n",
       "      <td>-1.0</td>\n",
       "      <td>-1.0</td>\n",
       "      <td>...</td>\n",
       "      <td>-1.0</td>\n",
       "      <td>-1.0</td>\n",
       "      <td>-1.0</td>\n",
       "      <td>-1.0</td>\n",
       "      <td>-1.0</td>\n",
       "      <td>-1.0</td>\n",
       "      <td>-1.0</td>\n",
       "      <td>-1.0</td>\n",
       "      <td>-1.0</td>\n",
       "      <td>-1.0</td>\n",
       "    </tr>\n",
       "  </tbody>\n",
       "</table>\n",
       "<p>3 rows × 11200 columns</p>\n",
       "</div>"
      ],
      "text/plain": [
       "anime_id  1      5      6      7      8      15     16     17     18     \\\n",
       "user_id                                                                   \n",
       "1          -1.0   -1.0   -1.0   -1.0   -1.0   -1.0   -1.0   -1.0   -1.0   \n",
       "2          -1.0   -1.0   -1.0   -1.0   -1.0   -1.0   -1.0   -1.0   -1.0   \n",
       "3          -1.0   -1.0   -1.0   -1.0   -1.0   -1.0   -1.0   -1.0   -1.0   \n",
       "\n",
       "anime_id  19     ...    34283  34324  34325  34349  34358  34367  34412  \\\n",
       "user_id          ...                                                      \n",
       "1          -1.0  ...     -1.0   -1.0   -1.0   -1.0   -1.0   -1.0   -1.0   \n",
       "2          -1.0  ...     -1.0   -1.0   -1.0   -1.0   -1.0   -1.0   -1.0   \n",
       "3          -1.0  ...     -1.0   -1.0   -1.0   -1.0   -1.0   -1.0   -1.0   \n",
       "\n",
       "anime_id  34475  34476  34519  \n",
       "user_id                        \n",
       "1          -1.0   -1.0   -1.0  \n",
       "2          -1.0   -1.0   -1.0  \n",
       "3          -1.0   -1.0   -1.0  \n",
       "\n",
       "[3 rows x 11200 columns]"
      ]
     },
     "execution_count": 86,
     "metadata": {},
     "output_type": "execute_result"
    }
   ],
   "source": [
    "# Examples of rating matrix.\n",
    "rating_matrix[0:3]"
   ]
  },
  {
   "cell_type": "code",
   "execution_count": 87,
   "metadata": {
    "ExecuteTime": {
     "end_time": "2018-06-27T12:15:09.038565Z",
     "start_time": "2018-06-27T12:13:59.281517Z"
    },
    "collapsed": false
   },
   "outputs": [
    {
     "data": {
      "text/plain": [
       "3915"
      ]
     },
     "execution_count": 87,
     "metadata": {},
     "output_type": "execute_result"
    }
   ],
   "source": [
    "# Make sure that there is no row with all -1.\n",
    "sum(rating_matrix.apply(lambda x: x.sum(), axis=1)==-11200)"
   ]
  },
  {
   "cell_type": "code",
   "execution_count": 80,
   "metadata": {
    "ExecuteTime": {
     "end_time": "2018-06-26T20:40:39.778198Z",
     "start_time": "2018-06-26T20:40:39.746837Z"
    },
    "collapsed": true
   },
   "outputs": [],
   "source": [
    "# Split data into train and validation data.\n",
    "validation_matrix = rating_matrix[0:10000]\n",
    "train_matrix = rating_matrix[10000:]"
   ]
  },
  {
   "cell_type": "markdown",
   "metadata": {},
   "source": [
    "### Network Structure."
   ]
  },
  {
   "cell_type": "code",
   "execution_count": 3,
   "metadata": {
    "ExecuteTime": {
     "end_time": "2018-06-27T20:22:05.024776Z",
     "start_time": "2018-06-27T20:22:05.016795Z"
    },
    "collapsed": false
   },
   "outputs": [],
   "source": [
    "# Define global variables.\n",
    "FLAGS = tf.app.flags.FLAGS\n",
    "\n",
    "# Set global variables.\n",
    "tf.app.flags.DEFINE_integer('num_visible', 11200,\n",
    "                            'Number of visible neurons (Number of movies the users rated.)')\n",
    "tf.app.flags.DEFINE_integer('num_hidden_1', 1280,\n",
    "                            'Number of hidden layer_1 neurons.)')\n",
    "tf.app.flags.DEFINE_integer('num_hidden_2', 128,\n",
    "                            'Number of hidden layer_2 neurons.)')"
   ]
  },
  {
   "cell_type": "code",
   "execution_count": 4,
   "metadata": {
    "ExecuteTime": {
     "end_time": "2018-06-27T20:22:06.769003Z",
     "start_time": "2018-06-27T20:22:06.658641Z"
    },
    "collapsed": false
   },
   "outputs": [],
   "source": [
    "# Define the Deep AutoEncoder.\n",
    "# Define weight and bias.\n",
    "with tf.name_scope('weights'):\n",
    "    weight_1 = tf.get_variable(name='weight_1', shape=(FLAGS.num_visible, FLAGS.num_hidden_1), \n",
    "                               initializer=tf.random_normal_initializer(mean=0.0, stddev=0.05))\n",
    "    weight_2 = tf.get_variable(name='weight_2', shape=(FLAGS.num_hidden_1, FLAGS.num_hidden_2), \n",
    "                               initializer=tf.random_normal_initializer(mean=0.0, stddev=0.05))\n",
    "    weight_3 = tf.get_variable(name='weight_3', shape=(FLAGS.num_hidden_2, FLAGS.num_hidden_1), \n",
    "                               initializer=tf.random_normal_initializer(mean=0.0, stddev=0.05))\n",
    "    weight_4 = tf.get_variable(name='weight_4', shape=(FLAGS.num_hidden_1, FLAGS.num_visible), \n",
    "                               initializer=tf.random_normal_initializer(mean=0.0, stddev=0.05))\n",
    "with tf.name_scope('biases'):\n",
    "    bias_1 = tf.get_variable(name='bias_1', shape=(FLAGS.num_hidden_1), \n",
    "                             initializer=tf.zeros_initializer())\n",
    "    bias_2 = tf.get_variable(name='bias_2', shape=(FLAGS.num_hidden_2), \n",
    "                             initializer=tf.zeros_initializer())\n",
    "    bias_3 = tf.get_variable(name='bias_3', shape=(FLAGS.num_hidden_1), \n",
    "                             initializer=tf.zeros_initializer())"
   ]
  },
  {
   "cell_type": "code",
   "execution_count": 5,
   "metadata": {
    "ExecuteTime": {
     "end_time": "2018-06-27T20:22:08.527539Z",
     "start_time": "2018-06-27T20:22:08.506606Z"
    },
    "collapsed": true
   },
   "outputs": [],
   "source": [
    "# Define inference of Neural Network.\n",
    "ratings = tf.placeholder(tf.float32, [None, FLAGS.num_visible],\n",
    "                         name='input_ratings')\n",
    "with tf.name_scope('inference'):\n",
    "    infer_1 = tf.nn.sigmoid(tf.nn.bias_add(tf.matmul(ratings, weight_1), bias_1))\n",
    "    infer_2 = tf.nn.sigmoid(tf.nn.bias_add(tf.matmul(infer_1, weight_2), bias_2))\n",
    "    infer_3 = tf.nn.sigmoid(tf.nn.bias_add(tf.matmul(infer_2, weight_3), bias_3))\n",
    "    output = tf.matmul(infer_3, weight_4)"
   ]
  },
  {
   "cell_type": "code",
   "execution_count": 8,
   "metadata": {
    "ExecuteTime": {
     "end_time": "2018-06-27T20:22:40.535437Z",
     "start_time": "2018-06-27T20:22:40.515887Z"
    },
    "collapsed": false
   },
   "outputs": [],
   "source": [
    "# Count the number of training labels.\n",
    "mask = tf.where(tf.equal(ratings, -1.0), ratings, tf.zeros_like(ratings)) \n",
    "num_train_labels = tf.cast(tf.count_nonzero(mask), dtype=tf.float32) \n",
    "# Mask output with -1.\n",
    "output = tf.where(tf.equal(ratings, -1.0), output, tf.zeros_like(output) - 1.0) "
   ]
  },
  {
   "cell_type": "code",
   "execution_count": 9,
   "metadata": {
    "ExecuteTime": {
     "end_time": "2018-06-27T20:22:44.416386Z",
     "start_time": "2018-06-27T20:22:44.407477Z"
    },
    "collapsed": false
   },
   "outputs": [],
   "source": [
    "# Compute the loss of neural network.\n",
    "with tf.name_scope('loss'):\n",
    "    loss = tf.div(tf.reduce_sum(tf.square(tf.subtract(output, ratings))), num_train_labels)"
   ]
  },
  {
   "cell_type": "code",
   "execution_count": null,
   "metadata": {
    "collapsed": true
   },
   "outputs": [],
   "source": []
  },
  {
   "cell_type": "code",
   "execution_count": null,
   "metadata": {
    "collapsed": true
   },
   "outputs": [],
   "source": []
  },
  {
   "cell_type": "code",
   "execution_count": 103,
   "metadata": {
    "ExecuteTime": {
     "end_time": "2018-06-27T17:55:49.178446Z",
     "start_time": "2018-06-27T17:55:49.151212Z"
    },
    "collapsed": false
   },
   "outputs": [
    {
     "name": "stdout",
     "output_type": "stream",
     "text": [
      "[1 1]\n"
     ]
    }
   ],
   "source": [
    "with tf.Session() as sess:\n",
    "    print sess.run(b)"
   ]
  },
  {
   "cell_type": "code",
   "execution_count": 102,
   "metadata": {
    "ExecuteTime": {
     "end_time": "2018-06-27T17:55:47.793659Z",
     "start_time": "2018-06-27T17:55:47.773683Z"
    },
    "collapsed": true
   },
   "outputs": [],
   "source": [
    "a = [1,2]\n",
    "b = tf.zeros_like(a)+1"
   ]
  },
  {
   "cell_type": "code",
   "execution_count": null,
   "metadata": {
    "collapsed": true
   },
   "outputs": [],
   "source": []
  }
 ],
 "metadata": {
  "kernelspec": {
   "display_name": "Python 2",
   "language": "python",
   "name": "python2"
  },
  "language_info": {
   "codemirror_mode": {
    "name": "ipython",
    "version": 2
   },
   "file_extension": ".py",
   "mimetype": "text/x-python",
   "name": "python",
   "nbconvert_exporter": "python",
   "pygments_lexer": "ipython2",
   "version": "2.7.13"
  }
 },
 "nbformat": 4,
 "nbformat_minor": 2
}
