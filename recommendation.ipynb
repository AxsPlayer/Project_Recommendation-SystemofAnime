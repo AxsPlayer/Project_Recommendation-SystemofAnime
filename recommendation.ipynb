{
 "cells": [
  {
   "cell_type": "code",
   "execution_count": 3,
   "metadata": {
    "ExecuteTime": {
     "end_time": "2018-06-25T11:50:53.646632Z",
     "start_time": "2018-06-25T11:50:53.639464Z"
    },
    "collapsed": true
   },
   "outputs": [],
   "source": [
    "# Import necessary package.\n",
    "import tensorflow as tf\n",
    "import numpy as np  \n",
    "import matplotlib.pyplot as plt\n",
    "import pandas as pd"
   ]
  },
  {
   "cell_type": "markdown",
   "metadata": {},
   "source": [
    "### Data Preparation."
   ]
  },
  {
   "cell_type": "code",
   "execution_count": 4,
   "metadata": {
    "ExecuteTime": {
     "end_time": "2018-06-25T11:50:57.830166Z",
     "start_time": "2018-06-25T11:50:54.610840Z"
    },
    "collapsed": false
   },
   "outputs": [],
   "source": [
    "# Read data from csv file.\n",
    "anime_data = pd.read_csv('data/anime.csv')\n",
    "rating_data = pd.read_csv('data/rating.csv')"
   ]
  },
  {
   "cell_type": "code",
   "execution_count": 40,
   "metadata": {
    "ExecuteTime": {
     "end_time": "2018-06-25T15:20:20.791218Z",
     "start_time": "2018-06-25T15:19:49.604428Z"
    },
    "collapsed": false
   },
   "outputs": [],
   "source": [
    "# Convert data into UxM-Matrix, with unknown ratings as zeros.\n",
    "rating_data = rating_data.drop_duplicates(subset=['user_id', 'anime_id'], keep='first') # Delete the duplicate with error.\n",
    "rating_matrix = rating_data.reset_index().pivot(index='user_id', columns='anime_id', values='rating')"
   ]
  },
  {
   "cell_type": "code",
   "execution_count": 46,
   "metadata": {
    "ExecuteTime": {
     "end_time": "2018-06-25T17:53:44.584188Z",
     "start_time": "2018-06-25T17:51:36.262292Z"
    },
    "collapsed": false
   },
   "outputs": [],
   "source": [
    "# Fill Na with -1.\n",
    "rating_matrix = rating_matrix.fillna(-1)"
   ]
  },
  {
   "cell_type": "code",
   "execution_count": 75,
   "metadata": {
    "ExecuteTime": {
     "end_time": "2018-06-26T11:42:50.881987Z",
     "start_time": "2018-06-26T11:42:50.868362Z"
    },
    "collapsed": false
   },
   "outputs": [
    {
     "data": {
      "text/plain": [
       "(73515, 11200)"
      ]
     },
     "execution_count": 75,
     "metadata": {},
     "output_type": "execute_result"
    }
   ],
   "source": [
    "# The data shape.\n",
    "rating_matrix.shape"
   ]
  },
  {
   "cell_type": "code",
   "execution_count": 78,
   "metadata": {
    "ExecuteTime": {
     "end_time": "2018-06-26T11:44:38.984735Z",
     "start_time": "2018-06-26T11:43:10.706697Z"
    },
    "collapsed": false
   },
   "outputs": [
    {
     "data": {
      "text/plain": [
       "0"
      ]
     },
     "execution_count": 78,
     "metadata": {},
     "output_type": "execute_result"
    }
   ],
   "source": [
    "# Make sure that there is no row with all -1.\n",
    "sum(rating_matrix.apply(lambda x: x.sum(), axis=1)==-11199)"
   ]
  },
  {
   "cell_type": "code",
   "execution_count": 80,
   "metadata": {
    "ExecuteTime": {
     "end_time": "2018-06-26T20:40:39.778198Z",
     "start_time": "2018-06-26T20:40:39.746837Z"
    },
    "collapsed": true
   },
   "outputs": [],
   "source": [
    "# Split data into train and validation data.\n",
    "validation_matrix = rating_matrix[0:10000]\n",
    "train_matrix = rating_matrix[10000:]"
   ]
  },
  {
   "cell_type": "markdown",
   "metadata": {},
   "source": [
    "### Network Structure."
   ]
  },
  {
   "cell_type": "code",
   "execution_count": null,
   "metadata": {
    "collapsed": true
   },
   "outputs": [],
   "source": [
    "# Define the Deep AutoEncoder.\n",
    "class DAE(object):\n",
    "    \"\"\"Implemention of Deep Autoencoder.\"\"\"\n",
    "    def __init__(self, FLAGS):\n",
    "        self.FLAGS = FLAGS\n",
    "        self.init_parameters()"
   ]
  }
 ],
 "metadata": {
  "kernelspec": {
   "display_name": "Python 2",
   "language": "python",
   "name": "python2"
  },
  "language_info": {
   "codemirror_mode": {
    "name": "ipython",
    "version": 2
   },
   "file_extension": ".py",
   "mimetype": "text/x-python",
   "name": "python",
   "nbconvert_exporter": "python",
   "pygments_lexer": "ipython2",
   "version": "2.7.13"
  }
 },
 "nbformat": 4,
 "nbformat_minor": 2
}
