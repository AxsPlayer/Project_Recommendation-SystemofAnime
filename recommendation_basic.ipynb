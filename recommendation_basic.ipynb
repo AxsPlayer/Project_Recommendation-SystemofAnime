{
 "cells": [
  {
   "cell_type": "code",
   "execution_count": 1,
   "metadata": {
    "ExecuteTime": {
     "end_time": "2018-06-29T19:37:25.689812Z",
     "start_time": "2018-06-29T19:37:24.770199Z"
    },
    "collapsed": false
   },
   "outputs": [],
   "source": [
    "# Import necessary package.\n",
    "import numpy as np  \n",
    "import matplotlib.pyplot as plt\n",
    "import pandas as pd\n",
    "from surprise import Reader, Dataset\n",
    "from surprise import SVD, evaluate\n",
    "from surprise import NMF, KNNBasic"
   ]
  },
  {
   "cell_type": "code",
   "execution_count": null,
   "metadata": {
    "collapsed": true
   },
   "outputs": [],
   "source": [
    "### Data Preparation."
   ]
  },
  {
   "cell_type": "code",
   "execution_count": 2,
   "metadata": {
    "ExecuteTime": {
     "end_time": "2018-06-29T19:37:30.176963Z",
     "start_time": "2018-06-29T19:37:27.726072Z"
    },
    "collapsed": true
   },
   "outputs": [],
   "source": [
    "# Read data from csv file.\n",
    "anime_data = pd.read_csv('data/anime.csv')\n",
    "rating_data = pd.read_csv('data/rating.csv')"
   ]
  },
  {
   "cell_type": "code",
   "execution_count": 3,
   "metadata": {
    "ExecuteTime": {
     "end_time": "2018-06-29T19:37:34.778991Z",
     "start_time": "2018-06-29T19:37:31.166899Z"
    },
    "collapsed": true
   },
   "outputs": [],
   "source": [
    "# Convert data into UxM-Matrix, with unknown ratings as zeros.\n",
    "rating_data = rating_data.drop_duplicates(subset=['user_id', 'anime_id'], keep='first') # Delete the duplicate with error.\n",
    "indexs = list(rating_data[rating_data['rating'] == -1].index)\n",
    "rating_data = rating_data.drop(indexs)"
   ]
  },
  {
   "cell_type": "code",
   "execution_count": 4,
   "metadata": {
    "ExecuteTime": {
     "end_time": "2018-06-29T19:37:45.825697Z",
     "start_time": "2018-06-29T19:37:38.461403Z"
    },
    "collapsed": false
   },
   "outputs": [],
   "source": [
    "# Load data from dataframe into Reader.\n",
    "reader = Reader(rating_scale=(1.0, 10.0))\n",
    "data = Dataset.load_from_df(rating_data[['user_id', 'anime_id', 'rating']], reader)"
   ]
  },
  {
   "cell_type": "code",
   "execution_count": 12,
   "metadata": {
    "ExecuteTime": {
     "end_time": "2018-06-29T17:55:26.130427Z",
     "start_time": "2018-06-29T17:42:07.213047Z"
    },
    "collapsed": false
   },
   "outputs": [
    {
     "name": "stdout",
     "output_type": "stream",
     "text": [
      "Evaluating RMSE of algorithm SVD.\n",
      "\n",
      "------------\n",
      "Fold 1\n",
      "RMSE: 1.1831\n",
      "------------\n",
      "Fold 2\n",
      "RMSE: 1.1850\n",
      "------------\n",
      "------------\n",
      "Mean RMSE: 1.1840\n",
      "------------\n",
      "------------\n"
     ]
    },
    {
     "data": {
      "text/plain": [
       "CaseInsensitiveDefaultDict(list,\n",
       "                           {'rmse': [1.1831236491937385, 1.1849668529344668]})"
      ]
     },
     "execution_count": 12,
     "metadata": {},
     "output_type": "execute_result"
    }
   ],
   "source": [
    "# Split data and evaluate algorithm.\n",
    "data.split(n_folds=2)\n",
    "# SVD\n",
    "algo = SVD()\n",
    "evaluate(algo, data, measures=['RMSE'])"
   ]
  },
  {
   "cell_type": "code",
   "execution_count": 6,
   "metadata": {
    "ExecuteTime": {
     "end_time": "2018-06-29T19:48:16.259672Z",
     "start_time": "2018-06-29T19:38:01.543035Z"
    },
    "collapsed": false
   },
   "outputs": [
    {
     "name": "stderr",
     "output_type": "stream",
     "text": [
      "/Users/dingyi05/anaconda/lib/python2.7/site-packages/surprise/evaluate.py:66: UserWarning: The evaluate() method is deprecated. Please use model_selection.cross_validate() instead.\n",
      "  'model_selection.cross_validate() instead.', UserWarning)\n"
     ]
    },
    {
     "name": "stdout",
     "output_type": "stream",
     "text": [
      "Evaluating RMSE of algorithm NMF.\n",
      "\n",
      "------------\n",
      "Fold 1\n",
      "RMSE: 2.2006\n",
      "------------\n",
      "Fold 2\n",
      "RMSE: 2.2189\n",
      "------------\n",
      "------------\n",
      "Mean RMSE: 2.2097\n",
      "------------\n",
      "------------\n"
     ]
    },
    {
     "name": "stderr",
     "output_type": "stream",
     "text": [
      "/Users/dingyi05/anaconda/lib/python2.7/site-packages/surprise/dataset.py:193: UserWarning: Using data.split() or using load_from_folds() without using a CV iterator is now deprecated. \n",
      "  UserWarning)\n"
     ]
    },
    {
     "data": {
      "text/plain": [
       "CaseInsensitiveDefaultDict(list,\n",
       "                           {'rmse': [2.2005717695674427, 2.2188522699385946]})"
      ]
     },
     "execution_count": 6,
     "metadata": {},
     "output_type": "execute_result"
    }
   ],
   "source": [
    "# NMF, pointing to Non negative Matrix Factorization.\n",
    "data.split(n_folds=2)\n",
    "algo = NMF()\n",
    "evaluate(algo, data, measures=['RMSE'])"
   ]
  },
  {
   "cell_type": "code",
   "execution_count": null,
   "metadata": {
    "ExecuteTime": {
     "start_time": "2018-06-29T11:53:25.704Z"
    },
    "collapsed": false
   },
   "outputs": [
    {
     "name": "stdout",
     "output_type": "stream",
     "text": [
      "Evaluating RMSE of algorithm KNNBasic.\n",
      "\n"
     ]
    }
   ],
   "source": [
    "# KNN.\n",
    "data.split(n_folds=2)\n",
    "algo = KNNBasic()\n",
    "evaluate(algo, data, measures=['RMSE'])"
   ]
  },
  {
   "cell_type": "code",
   "execution_count": null,
   "metadata": {
    "collapsed": true
   },
   "outputs": [],
   "source": []
  }
 ],
 "metadata": {
  "kernelspec": {
   "display_name": "Python 2",
   "language": "python",
   "name": "python2"
  },
  "language_info": {
   "codemirror_mode": {
    "name": "ipython",
    "version": 2
   },
   "file_extension": ".py",
   "mimetype": "text/x-python",
   "name": "python",
   "nbconvert_exporter": "python",
   "pygments_lexer": "ipython2",
   "version": "2.7.13"
  }
 },
 "nbformat": 4,
 "nbformat_minor": 2
}
