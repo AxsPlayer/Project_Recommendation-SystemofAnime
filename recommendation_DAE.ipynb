{
 "cells": [
  {
   "cell_type": "code",
   "execution_count": 1,
   "metadata": {
    "ExecuteTime": {
     "end_time": "2018-06-28T16:43:01.268674Z",
     "start_time": "2018-06-28T16:42:58.177195Z"
    },
    "collapsed": true
   },
   "outputs": [],
   "source": [
    "# Import necessary package.\n",
    "import tensorflow as tf\n",
    "import numpy as np  \n",
    "import matplotlib.pyplot as plt\n",
    "import pandas as pd"
   ]
  },
  {
   "cell_type": "markdown",
   "metadata": {},
   "source": [
    "### Data Preparation."
   ]
  },
  {
   "cell_type": "code",
   "execution_count": 2,
   "metadata": {
    "ExecuteTime": {
     "end_time": "2018-06-28T16:43:04.242512Z",
     "start_time": "2018-06-28T16:43:01.270984Z"
    },
    "collapsed": false
   },
   "outputs": [],
   "source": [
    "# Read data from csv file.\n",
    "anime_data = pd.read_csv('data/anime.csv')\n",
    "rating_data = pd.read_csv('data/rating.csv')"
   ]
  },
  {
   "cell_type": "code",
   "execution_count": 3,
   "metadata": {
    "ExecuteTime": {
     "end_time": "2018-06-28T16:43:40.337686Z",
     "start_time": "2018-06-28T16:43:04.254510Z"
    },
    "collapsed": false
   },
   "outputs": [],
   "source": [
    "# Convert data into UxM-Matrix, with unknown ratings as zeros.\n",
    "rating_data = rating_data.drop_duplicates(subset=['user_id', 'anime_id'], keep='first') # Delete the duplicate with error.\n",
    "rating_matrix = rating_data.reset_index().pivot(index='user_id', columns='anime_id', values='rating')"
   ]
  },
  {
   "cell_type": "code",
   "execution_count": 4,
   "metadata": {
    "ExecuteTime": {
     "end_time": "2018-06-28T16:45:10.911298Z",
     "start_time": "2018-06-28T16:43:40.347026Z"
    },
    "collapsed": false
   },
   "outputs": [],
   "source": [
    "# Fill Na with -1.\n",
    "rating_matrix = rating_matrix.fillna(-1)"
   ]
  },
  {
   "cell_type": "code",
   "execution_count": 5,
   "metadata": {
    "ExecuteTime": {
     "end_time": "2018-06-28T16:45:10.998934Z",
     "start_time": "2018-06-28T16:45:10.919627Z"
    },
    "collapsed": false
   },
   "outputs": [
    {
     "data": {
      "text/plain": [
       "(73515, 11200)"
      ]
     },
     "execution_count": 5,
     "metadata": {},
     "output_type": "execute_result"
    }
   ],
   "source": [
    "# The data shape.\n",
    "rating_matrix.shape"
   ]
  },
  {
   "cell_type": "code",
   "execution_count": 6,
   "metadata": {
    "ExecuteTime": {
     "end_time": "2018-06-28T16:45:11.171080Z",
     "start_time": "2018-06-28T16:45:11.002195Z"
    },
    "collapsed": false
   },
   "outputs": [
    {
     "data": {
      "text/html": [
       "<div>\n",
       "<table border=\"1\" class=\"dataframe\">\n",
       "  <thead>\n",
       "    <tr style=\"text-align: right;\">\n",
       "      <th>anime_id</th>\n",
       "      <th>1</th>\n",
       "      <th>5</th>\n",
       "      <th>6</th>\n",
       "      <th>7</th>\n",
       "      <th>8</th>\n",
       "      <th>15</th>\n",
       "      <th>16</th>\n",
       "      <th>17</th>\n",
       "      <th>18</th>\n",
       "      <th>19</th>\n",
       "      <th>...</th>\n",
       "      <th>34283</th>\n",
       "      <th>34324</th>\n",
       "      <th>34325</th>\n",
       "      <th>34349</th>\n",
       "      <th>34358</th>\n",
       "      <th>34367</th>\n",
       "      <th>34412</th>\n",
       "      <th>34475</th>\n",
       "      <th>34476</th>\n",
       "      <th>34519</th>\n",
       "    </tr>\n",
       "    <tr>\n",
       "      <th>user_id</th>\n",
       "      <th></th>\n",
       "      <th></th>\n",
       "      <th></th>\n",
       "      <th></th>\n",
       "      <th></th>\n",
       "      <th></th>\n",
       "      <th></th>\n",
       "      <th></th>\n",
       "      <th></th>\n",
       "      <th></th>\n",
       "      <th></th>\n",
       "      <th></th>\n",
       "      <th></th>\n",
       "      <th></th>\n",
       "      <th></th>\n",
       "      <th></th>\n",
       "      <th></th>\n",
       "      <th></th>\n",
       "      <th></th>\n",
       "      <th></th>\n",
       "      <th></th>\n",
       "    </tr>\n",
       "  </thead>\n",
       "  <tbody>\n",
       "    <tr>\n",
       "      <th>1</th>\n",
       "      <td>-1.0</td>\n",
       "      <td>-1.0</td>\n",
       "      <td>-1.0</td>\n",
       "      <td>-1.0</td>\n",
       "      <td>-1.0</td>\n",
       "      <td>-1.0</td>\n",
       "      <td>-1.0</td>\n",
       "      <td>-1.0</td>\n",
       "      <td>-1.0</td>\n",
       "      <td>-1.0</td>\n",
       "      <td>...</td>\n",
       "      <td>-1.0</td>\n",
       "      <td>-1.0</td>\n",
       "      <td>-1.0</td>\n",
       "      <td>-1.0</td>\n",
       "      <td>-1.0</td>\n",
       "      <td>-1.0</td>\n",
       "      <td>-1.0</td>\n",
       "      <td>-1.0</td>\n",
       "      <td>-1.0</td>\n",
       "      <td>-1.0</td>\n",
       "    </tr>\n",
       "    <tr>\n",
       "      <th>2</th>\n",
       "      <td>-1.0</td>\n",
       "      <td>-1.0</td>\n",
       "      <td>-1.0</td>\n",
       "      <td>-1.0</td>\n",
       "      <td>-1.0</td>\n",
       "      <td>-1.0</td>\n",
       "      <td>-1.0</td>\n",
       "      <td>-1.0</td>\n",
       "      <td>-1.0</td>\n",
       "      <td>-1.0</td>\n",
       "      <td>...</td>\n",
       "      <td>-1.0</td>\n",
       "      <td>-1.0</td>\n",
       "      <td>-1.0</td>\n",
       "      <td>-1.0</td>\n",
       "      <td>-1.0</td>\n",
       "      <td>-1.0</td>\n",
       "      <td>-1.0</td>\n",
       "      <td>-1.0</td>\n",
       "      <td>-1.0</td>\n",
       "      <td>-1.0</td>\n",
       "    </tr>\n",
       "    <tr>\n",
       "      <th>3</th>\n",
       "      <td>-1.0</td>\n",
       "      <td>-1.0</td>\n",
       "      <td>-1.0</td>\n",
       "      <td>-1.0</td>\n",
       "      <td>-1.0</td>\n",
       "      <td>-1.0</td>\n",
       "      <td>-1.0</td>\n",
       "      <td>-1.0</td>\n",
       "      <td>-1.0</td>\n",
       "      <td>-1.0</td>\n",
       "      <td>...</td>\n",
       "      <td>-1.0</td>\n",
       "      <td>-1.0</td>\n",
       "      <td>-1.0</td>\n",
       "      <td>-1.0</td>\n",
       "      <td>-1.0</td>\n",
       "      <td>-1.0</td>\n",
       "      <td>-1.0</td>\n",
       "      <td>-1.0</td>\n",
       "      <td>-1.0</td>\n",
       "      <td>-1.0</td>\n",
       "    </tr>\n",
       "  </tbody>\n",
       "</table>\n",
       "<p>3 rows × 11200 columns</p>\n",
       "</div>"
      ],
      "text/plain": [
       "anime_id  1      5      6      7      8      15     16     17     18     \\\n",
       "user_id                                                                   \n",
       "1          -1.0   -1.0   -1.0   -1.0   -1.0   -1.0   -1.0   -1.0   -1.0   \n",
       "2          -1.0   -1.0   -1.0   -1.0   -1.0   -1.0   -1.0   -1.0   -1.0   \n",
       "3          -1.0   -1.0   -1.0   -1.0   -1.0   -1.0   -1.0   -1.0   -1.0   \n",
       "\n",
       "anime_id  19     ...    34283  34324  34325  34349  34358  34367  34412  \\\n",
       "user_id          ...                                                      \n",
       "1          -1.0  ...     -1.0   -1.0   -1.0   -1.0   -1.0   -1.0   -1.0   \n",
       "2          -1.0  ...     -1.0   -1.0   -1.0   -1.0   -1.0   -1.0   -1.0   \n",
       "3          -1.0  ...     -1.0   -1.0   -1.0   -1.0   -1.0   -1.0   -1.0   \n",
       "\n",
       "anime_id  34475  34476  34519  \n",
       "user_id                        \n",
       "1          -1.0   -1.0   -1.0  \n",
       "2          -1.0   -1.0   -1.0  \n",
       "3          -1.0   -1.0   -1.0  \n",
       "\n",
       "[3 rows x 11200 columns]"
      ]
     },
     "execution_count": 6,
     "metadata": {},
     "output_type": "execute_result"
    }
   ],
   "source": [
    "# Examples of rating matrix.\n",
    "rating_matrix[0:3]"
   ]
  },
  {
   "cell_type": "code",
   "execution_count": 87,
   "metadata": {
    "ExecuteTime": {
     "end_time": "2018-06-27T12:15:09.038565Z",
     "start_time": "2018-06-27T12:13:59.281517Z"
    },
    "collapsed": false
   },
   "outputs": [
    {
     "data": {
      "text/plain": [
       "3915"
      ]
     },
     "execution_count": 87,
     "metadata": {},
     "output_type": "execute_result"
    }
   ],
   "source": [
    "# Make sure that there is no row with all -1.\n",
    "sum(rating_matrix.apply(lambda x: x.sum(), axis=1)==-11200)"
   ]
  },
  {
   "cell_type": "code",
   "execution_count": 7,
   "metadata": {
    "ExecuteTime": {
     "end_time": "2018-06-28T16:45:11.183693Z",
     "start_time": "2018-06-28T16:45:11.175460Z"
    },
    "collapsed": true
   },
   "outputs": [],
   "source": [
    "# Split data into train and validation data.\n",
    "validation_matrix = rating_matrix[0:10000]\n",
    "train_matrix = rating_matrix[10000:]"
   ]
  },
  {
   "cell_type": "markdown",
   "metadata": {},
   "source": [
    "### Network Structure."
   ]
  },
  {
   "cell_type": "code",
   "execution_count": 8,
   "metadata": {
    "ExecuteTime": {
     "end_time": "2018-06-28T16:45:11.224313Z",
     "start_time": "2018-06-28T16:45:11.188224Z"
    },
    "collapsed": false
   },
   "outputs": [],
   "source": [
    "# Define global variables.\n",
    "FLAGS = tf.app.flags.FLAGS\n",
    "\n",
    "# Set global variables.\n",
    "tf.app.flags.DEFINE_integer('num_visible', 11200,\n",
    "                            'Number of visible neurons (Number of movies the users rated.)')\n",
    "tf.app.flags.DEFINE_integer('num_hidden_1', 2280,\n",
    "                            'Number of hidden layer_1 neurons.)')\n",
    "tf.app.flags.DEFINE_integer('num_hidden_2', 810,\n",
    "                            'Number of hidden layer_2 neurons.)')\n",
    "tf.app.flags.DEFINE_integer('num_hidden_3', 128,\n",
    "                            'Number of hidden layer_2 neurons.)')\n",
    "tf.app.flags.DEFINE_boolean('l2_reg', True,\n",
    "                            'L2 regularization.')\n",
    "tf.app.flags.DEFINE_float('lambda_',0.01,\n",
    "                          'Wight decay factor.')\n",
    "tf.app.flags.DEFINE_float('learning_rate',0.0005,\n",
    "                          'Learning_Rate')\n",
    "tf.app.flags.DEFINE_integer('num_epoch', 300,\n",
    "                            'Number of training epochs.')\n",
    "tf.app.flags.DEFINE_integer('batch_size', 32,\n",
    "                            'Size of the training batch.')\n",
    "tf.app.flags.DEFINE_string('tf_model_train_path', \n",
    "                           'model/',\n",
    "                           'Path of the saved training model.')"
   ]
  },
  {
   "cell_type": "code",
   "execution_count": 9,
   "metadata": {
    "ExecuteTime": {
     "end_time": "2018-06-28T16:45:11.474192Z",
     "start_time": "2018-06-28T16:45:11.227359Z"
    },
    "collapsed": false
   },
   "outputs": [],
   "source": [
    "# Define the Deep AutoEncoder.\n",
    "# Define weight and bias.\n",
    "with tf.name_scope('weights'):\n",
    "    weight_1 = tf.get_variable(name='weight_1', shape=(FLAGS.num_visible, FLAGS.num_hidden_1), \n",
    "                               initializer=tf.random_normal_initializer(mean=0.0, stddev=0.05))\n",
    "    weight_2 = tf.get_variable(name='weight_2', shape=(FLAGS.num_hidden_1, FLAGS.num_hidden_2), \n",
    "                               initializer=tf.random_normal_initializer(mean=0.0, stddev=0.05))\n",
    "    weight_3 = tf.get_variable(name='weight_3', shape=(FLAGS.num_hidden_2, FLAGS.num_hidden_3), \n",
    "                               initializer=tf.random_normal_initializer(mean=0.0, stddev=0.05))\n",
    "    weight_4 = tf.get_variable(name='weight_4', shape=(FLAGS.num_hidden_3, FLAGS.num_hidden_2), \n",
    "                               initializer=tf.random_normal_initializer(mean=0.0, stddev=0.05))\n",
    "    weight_5 = tf.get_variable(name='weight_5', shape=(FLAGS.num_hidden_2, FLAGS.num_hidden_1), \n",
    "                               initializer=tf.random_normal_initializer(mean=0.0, stddev=0.05))\n",
    "    weight_6 = tf.get_variable(name='weight_6', shape=(FLAGS.num_hidden_1, FLAGS.num_visible), \n",
    "                               initializer=tf.random_normal_initializer(mean=0.0, stddev=0.05))\n",
    "with tf.name_scope('biases'):\n",
    "    bias_1 = tf.get_variable(name='bias_1', shape=(FLAGS.num_hidden_1), \n",
    "                             initializer=tf.zeros_initializer())\n",
    "    bias_2 = tf.get_variable(name='bias_2', shape=(FLAGS.num_hidden_2), \n",
    "                             initializer=tf.zeros_initializer())\n",
    "    bias_3 = tf.get_variable(name='bias_3', shape=(FLAGS.num_hidden_3), \n",
    "                             initializer=tf.zeros_initializer())\n",
    "    bias_4 = tf.get_variable(name='bias_4', shape=(FLAGS.num_hidden_2), \n",
    "                             initializer=tf.zeros_initializer())\n",
    "    bias_5 = tf.get_variable(name='bias_5', shape=(FLAGS.num_hidden_1), \n",
    "                             initializer=tf.zeros_initializer())"
   ]
  },
  {
   "cell_type": "code",
   "execution_count": 10,
   "metadata": {
    "ExecuteTime": {
     "end_time": "2018-06-28T16:45:11.515599Z",
     "start_time": "2018-06-28T16:45:11.475864Z"
    },
    "collapsed": true
   },
   "outputs": [],
   "source": [
    "# Define inference of Neural Network.\n",
    "ratings = tf.placeholder(tf.float32, [None, FLAGS.num_visible],\n",
    "                         name='input_ratings')\n",
    "with tf.name_scope('inference'):\n",
    "    infer_1 = tf.nn.sigmoid(tf.nn.bias_add(tf.matmul(ratings, weight_1), bias_1))\n",
    "    infer_2 = tf.nn.sigmoid(tf.nn.bias_add(tf.matmul(infer_1, weight_2), bias_2))\n",
    "    infer_3 = tf.nn.sigmoid(tf.nn.bias_add(tf.matmul(infer_2, weight_3), bias_3))\n",
    "    infer_4 = tf.nn.sigmoid(tf.nn.bias_add(tf.matmul(infer_3, weight_4), bias_4))\n",
    "    infer_5 = tf.nn.sigmoid(tf.nn.bias_add(tf.matmul(infer_4, weight_5), bias_5))\n",
    "    output = tf.matmul(infer_5, weight_6)"
   ]
  },
  {
   "cell_type": "code",
   "execution_count": 11,
   "metadata": {
    "ExecuteTime": {
     "end_time": "2018-06-28T16:45:11.539799Z",
     "start_time": "2018-06-28T16:45:11.519891Z"
    },
    "collapsed": false
   },
   "outputs": [],
   "source": [
    "# Count the number of training labels.\n",
    "mask = tf.where(tf.equal(ratings, -1.0), ratings, tf.zeros_like(ratings)) \n",
    "num_train_labels = tf.cast(tf.count_nonzero(mask), dtype=tf.float32) \n",
    "# Mask output with -1.\n",
    "output = tf.where(tf.equal(ratings, -1.0), output, tf.zeros_like(output) - 1.0) "
   ]
  },
  {
   "cell_type": "code",
   "execution_count": 12,
   "metadata": {
    "ExecuteTime": {
     "end_time": "2018-06-28T16:45:11.557661Z",
     "start_time": "2018-06-28T16:45:11.542422Z"
    },
    "collapsed": false
   },
   "outputs": [],
   "source": [
    "# Compute the loss of neural network.\n",
    "with tf.name_scope('loss'):\n",
    "    MSE_loss = tf.div(tf.reduce_sum(tf.square(tf.subtract(output, ratings))), num_train_labels)\n",
    "    RMSE_loss = tf.sqrt(MSE_loss)  # Set RMSE loss for evaluation."
   ]
  },
  {
   "cell_type": "code",
   "execution_count": 13,
   "metadata": {
    "ExecuteTime": {
     "end_time": "2018-06-28T16:45:11.590484Z",
     "start_time": "2018-06-28T16:45:11.564801Z"
    },
    "collapsed": false
   },
   "outputs": [],
   "source": [
    "# Add L2 regularation to loss.\n",
    "if FLAGS.l2_reg == True:\n",
    "    l2_loss = tf.add_n([tf.nn.l2_loss(v) for v in tf.trainable_variables()])\n",
    "    MSE_loss = MSE_loss + FLAGS.lambda_ * l2_loss"
   ]
  },
  {
   "cell_type": "code",
   "execution_count": 14,
   "metadata": {
    "ExecuteTime": {
     "end_time": "2018-06-28T16:45:12.082518Z",
     "start_time": "2018-06-28T16:45:11.596348Z"
    },
    "collapsed": true
   },
   "outputs": [],
   "source": [
    "# Set train operation to minimize MSE loss.\n",
    "train_op = tf.train.AdamOptimizer(FLAGS.learning_rate).minimize(MSE_loss)"
   ]
  },
  {
   "cell_type": "code",
   "execution_count": 15,
   "metadata": {
    "ExecuteTime": {
     "end_time": "2018-06-28T16:58:28.478658Z",
     "start_time": "2018-06-28T16:45:12.089160Z"
    },
    "collapsed": false,
    "scrolled": true
   },
   "outputs": [
    {
     "name": "stdout",
     "output_type": "stream",
     "text": [
      "Step 0: Validation RMSE_loss = 1.602350\n",
      "Step 20: Validation RMSE_loss = 0.899326\n",
      "Step 40: Validation RMSE_loss = 0.826502\n",
      "Step 60: Validation RMSE_loss = 0.800213\n",
      "Step 80: Validation RMSE_loss = 0.788404\n",
      "Step 100: Validation RMSE_loss = 0.784320\n",
      "Step 120: Validation RMSE_loss = 0.782637\n",
      "Step 140: Validation RMSE_loss = 0.781868\n",
      "Step 160: Validation RMSE_loss = 0.781486\n",
      "Step 180: Validation RMSE_loss = 0.781268\n",
      "Step 200: Validation RMSE_loss = 0.781145\n",
      "Step 220: Validation RMSE_loss = 0.781066\n",
      "Step 240: Validation RMSE_loss = 0.781014\n",
      "Step 260: Validation RMSE_loss = 0.780981\n",
      "Step 280: Validation RMSE_loss = 0.780955\n",
      "Step 299: Validation RMSE_loss = 0.780938\n"
     ]
    }
   ],
   "source": [
    "# Set training number.\n",
    "n_training_example = len(train_matrix)\n",
    "saver = tf.train.Saver()\n",
    "# Create session to run the Neural Network.\n",
    "with tf.Session() as sess:\n",
    "    # Initialize variables.\n",
    "    init = tf.global_variables_initializer()\n",
    "    sess.run(init)\n",
    "    \n",
    "    # Start training.\n",
    "    start = 0\n",
    "    end = FLAGS.batch_size\n",
    "    for i in xrange(FLAGS.num_epoch):  # FLAGS.num_epoch\n",
    "        # Update pointed variables but not all the variables.\n",
    "        sess.run(train_op, feed_dict={\n",
    "            ratings: train_matrix[start: end]\n",
    "        })\n",
    "\n",
    "        # Output log.\n",
    "        if i % 20 == 0 or i + 1 == FLAGS.num_epoch:\n",
    "            # saver.save(sess, FLAGS.tf_model_train_path, global_step=i)\n",
    "            validation_accuracy = sess.run(RMSE_loss, feed_dict={\n",
    "                ratings: validation_matrix\n",
    "            })\n",
    "            print('Step %d: Validation RMSE_loss = %.6f' % (i, validation_accuracy))\n",
    "\n",
    "        # Update batch variables.\n",
    "        start = end\n",
    "        if start == n_training_example:\n",
    "            start = 0\n",
    "        end = start + FLAGS.batch_size\n",
    "        if end > n_training_example:\n",
    "            end = n_training_example"
   ]
  },
  {
   "cell_type": "code",
   "execution_count": null,
   "metadata": {
    "collapsed": true
   },
   "outputs": [],
   "source": []
  }
 ],
 "metadata": {
  "kernelspec": {
   "display_name": "Python 2",
   "language": "python",
   "name": "python2"
  },
  "language_info": {
   "codemirror_mode": {
    "name": "ipython",
    "version": 2
   },
   "file_extension": ".py",
   "mimetype": "text/x-python",
   "name": "python",
   "nbconvert_exporter": "python",
   "pygments_lexer": "ipython2",
   "version": "2.7.13"
  }
 },
 "nbformat": 4,
 "nbformat_minor": 2
}
