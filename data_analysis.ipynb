{
 "cells": [
  {
   "cell_type": "code",
   "execution_count": 1,
   "metadata": {
    "ExecuteTime": {
     "end_time": "2018-06-20T19:29:32.717163Z",
     "start_time": "2018-06-20T19:29:32.078783Z"
    },
    "collapsed": true
   },
   "outputs": [],
   "source": [
    "#Import necessary packages.\n",
    "import os\n",
    "import pandas as pd"
   ]
  },
  {
   "cell_type": "code",
   "execution_count": 3,
   "metadata": {
    "ExecuteTime": {
     "end_time": "2018-06-20T19:30:21.191377Z",
     "start_time": "2018-06-20T19:30:18.454274Z"
    },
    "collapsed": false
   },
   "outputs": [],
   "source": [
    "# Read data from csv file.\n",
    "anime_data = pd.read_csv('data/anime.csv')\n",
    "rating_data = pd.read_csv('data/rating.csv')"
   ]
  },
  {
   "cell_type": "code",
   "execution_count": null,
   "metadata": {
    "collapsed": true
   },
   "outputs": [],
   "source": []
  }
 ],
 "metadata": {
  "kernelspec": {
   "display_name": "Python 2",
   "language": "python",
   "name": "python2"
  },
  "language_info": {
   "codemirror_mode": {
    "name": "ipython",
    "version": 2
   },
   "file_extension": ".py",
   "mimetype": "text/x-python",
   "name": "python",
   "nbconvert_exporter": "python",
   "pygments_lexer": "ipython2",
   "version": "2.7.13"
  }
 },
 "nbformat": 4,
 "nbformat_minor": 2
}
