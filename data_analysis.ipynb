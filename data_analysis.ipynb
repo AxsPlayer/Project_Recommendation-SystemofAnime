{
 "cells": [
  {
   "cell_type": "code",
   "execution_count": 13,
   "metadata": {
    "ExecuteTime": {
     "end_time": "2018-06-21T16:47:53.971148Z",
     "start_time": "2018-06-21T16:47:53.069991Z"
    },
    "collapsed": true
   },
   "outputs": [],
   "source": [
    "#Import necessary packages.\n",
    "import matplotlib.pyplot as plt \n",
    "import os\n",
    "import pandas as pd\n",
    "\n",
    "from pydqc import infer_schema, data_summary, data_compare, data_consist"
   ]
  },
  {
   "cell_type": "code",
   "execution_count": 3,
   "metadata": {
    "ExecuteTime": {
     "end_time": "2018-06-20T19:30:21.191377Z",
     "start_time": "2018-06-20T19:30:18.454274Z"
    },
    "collapsed": false
   },
   "outputs": [],
   "source": [
    "# Read data from csv file.\n",
    "anime_data = pd.read_csv('data/anime.csv')\n",
    "rating_data = pd.read_csv('data/rating.csv')"
   ]
  },
  {
   "cell_type": "code",
   "execution_count": 18,
   "metadata": {
    "ExecuteTime": {
     "end_time": "2018-06-21T17:21:57.732745Z",
     "start_time": "2018-06-21T17:21:50.465719Z"
    },
    "collapsed": false
   },
   "outputs": [],
   "source": [
    "# Infer data schema.\n",
    "infer_schema.infer_schema(anime_data, fname='anime', output_root='summary/', sample_size=1.0, \n",
    "                                type_threshold=0.5, n_jobs=1, base_schema=None)\n",
    "infer_schema.infer_schema(rating_data, fname='rating', output_root='summary/', sample_size=1.0, \n",
    "                                type_threshold=0.5, n_jobs=1, base_schema=None)"
   ]
  },
  {
   "cell_type": "code",
   "execution_count": 24,
   "metadata": {
    "ExecuteTime": {
     "end_time": "2018-06-21T17:29:59.558676Z",
     "start_time": "2018-06-21T17:29:57.753775Z"
    },
    "collapsed": false
   },
   "outputs": [],
   "source": [
    "# Summary data according to data schema.\n",
    "data_anime_schema = pd.read_excel('summary/data_schema_anime_mdf.xlsx')\n",
    "data_summary.data_summary(table_schema=data_anime_schema, table=anime_data, fname='anime', \n",
    "                          sample_size=1.0, output_root='summary/', keep_images=True, n_jobs=2)"
   ]
  },
  {
   "cell_type": "code",
   "execution_count": 27,
   "metadata": {
    "ExecuteTime": {
     "end_time": "2018-06-21T17:34:50.863401Z",
     "start_time": "2018-06-21T17:34:50.800731Z"
    },
    "collapsed": false
   },
   "outputs": [
    {
     "data": {
      "text/html": [
       "<div>\n",
       "<table border=\"1\" class=\"dataframe\">\n",
       "  <thead>\n",
       "    <tr style=\"text-align: right;\">\n",
       "      <th></th>\n",
       "      <th>anime_id</th>\n",
       "      <th>rating</th>\n",
       "      <th>members</th>\n",
       "    </tr>\n",
       "  </thead>\n",
       "  <tbody>\n",
       "    <tr>\n",
       "      <th>count</th>\n",
       "      <td>12294.000000</td>\n",
       "      <td>12064.000000</td>\n",
       "      <td>1.229400e+04</td>\n",
       "    </tr>\n",
       "    <tr>\n",
       "      <th>mean</th>\n",
       "      <td>14058.221653</td>\n",
       "      <td>6.473902</td>\n",
       "      <td>1.807134e+04</td>\n",
       "    </tr>\n",
       "    <tr>\n",
       "      <th>std</th>\n",
       "      <td>11455.294701</td>\n",
       "      <td>1.026746</td>\n",
       "      <td>5.482068e+04</td>\n",
       "    </tr>\n",
       "    <tr>\n",
       "      <th>min</th>\n",
       "      <td>1.000000</td>\n",
       "      <td>1.670000</td>\n",
       "      <td>5.000000e+00</td>\n",
       "    </tr>\n",
       "    <tr>\n",
       "      <th>25%</th>\n",
       "      <td>3484.250000</td>\n",
       "      <td>5.880000</td>\n",
       "      <td>2.250000e+02</td>\n",
       "    </tr>\n",
       "    <tr>\n",
       "      <th>50%</th>\n",
       "      <td>10260.500000</td>\n",
       "      <td>6.570000</td>\n",
       "      <td>1.550000e+03</td>\n",
       "    </tr>\n",
       "    <tr>\n",
       "      <th>75%</th>\n",
       "      <td>24794.500000</td>\n",
       "      <td>7.180000</td>\n",
       "      <td>9.437000e+03</td>\n",
       "    </tr>\n",
       "    <tr>\n",
       "      <th>max</th>\n",
       "      <td>34527.000000</td>\n",
       "      <td>10.000000</td>\n",
       "      <td>1.013917e+06</td>\n",
       "    </tr>\n",
       "  </tbody>\n",
       "</table>\n",
       "</div>"
      ],
      "text/plain": [
       "           anime_id        rating       members\n",
       "count  12294.000000  12064.000000  1.229400e+04\n",
       "mean   14058.221653      6.473902  1.807134e+04\n",
       "std    11455.294701      1.026746  5.482068e+04\n",
       "min        1.000000      1.670000  5.000000e+00\n",
       "25%     3484.250000      5.880000  2.250000e+02\n",
       "50%    10260.500000      6.570000  1.550000e+03\n",
       "75%    24794.500000      7.180000  9.437000e+03\n",
       "max    34527.000000     10.000000  1.013917e+06"
      ]
     },
     "execution_count": 27,
     "metadata": {},
     "output_type": "execute_result"
    }
   ],
   "source": [
    "# Describe the data.\n",
    "anime_data.describe()"
   ]
  },
  {
   "cell_type": "code",
   "execution_count": null,
   "metadata": {
    "collapsed": true
   },
   "outputs": [],
   "source": []
  }
 ],
 "metadata": {
  "kernelspec": {
   "display_name": "Python 2",
   "language": "python",
   "name": "python2"
  },
  "language_info": {
   "codemirror_mode": {
    "name": "ipython",
    "version": 2
   },
   "file_extension": ".py",
   "mimetype": "text/x-python",
   "name": "python",
   "nbconvert_exporter": "python",
   "pygments_lexer": "ipython2",
   "version": "2.7.13"
  }
 },
 "nbformat": 4,
 "nbformat_minor": 2
}
